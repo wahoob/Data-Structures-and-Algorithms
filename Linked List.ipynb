{
 "cells": [
  {
   "cell_type": "code",
   "execution_count": 1,
   "metadata": {},
   "outputs": [],
   "source": [
    "class Node:\n",
    "    def __init__(self, data=None):\n",
    "        self.data = data\n",
    "        self.next = None"
   ]
  },
  {
   "cell_type": "code",
   "execution_count": 3,
   "metadata": {},
   "outputs": [],
   "source": [
    "class SingleLinkedList:\n",
    "    def __init__(self):\n",
    "        self.head = None\n",
    "    \n",
    "    def append(self, data):\n",
    "        new_node = Node(data)\n",
    "        if not self.head:\n",
    "            self.head = new_node\n",
    "            return\n",
    "        last_node = self.head\n",
    "        while last_node.next:\n",
    "            last_node = last_node.next\n",
    "        last_node.next = new_node\n",
    "\n",
    "    def prepend(self, data):\n",
    "        new_node = Node(data)\n",
    "        new_node.next = self.head\n",
    "        self.head = new_node\n",
    "\n",
    "    def insert(self, data, position):\n",
    "        if position < 0:\n",
    "            raise IndexError(\"Index out of bounds\")\n",
    "        new_node = Node(data)\n",
    "        if position == 0:\n",
    "            new_node.next = self.head\n",
    "            self.head = new_node\n",
    "            return\n",
    "        current_node = self.head\n",
    "        current_position = 0\n",
    "        while current_node is not None and current_position < position - 1:\n",
    "            current_node = current_node.next\n",
    "            current_position += 1\n",
    "        if current_node is None:\n",
    "            raise IndexError(\"Index out of bounds\")\n",
    "        new_node.next = current_node.next\n",
    "        current_node.next = new_node\n",
    "\n",
    "    def delete(self, data):\n",
    "        if not self.head:\n",
    "            return\n",
    "        if self.head.data == data:\n",
    "            self.head = self.head.next\n",
    "            return\n",
    "        current_node = self.head\n",
    "        while current_node.next:\n",
    "            if current_node.next.data == data:\n",
    "                current_node.next = current_node.next.next\n",
    "                return\n",
    "            current_node = current_node.next\n",
    "\n",
    "    def find(self, data):\n",
    "        current_node = self.head\n",
    "        while current_node:\n",
    "            if current_node.data == data:\n",
    "                return True\n",
    "            current_node = current_node.next\n",
    "        return False\n",
    "    \n",
    "    def display(self):\n",
    "        elements = []\n",
    "        current_node = self.head\n",
    "        while current_node:\n",
    "            elements.append(current_node.data)\n",
    "            current_node = current_node.next\n",
    "        print(elements)\n"
   ]
  },
  {
   "cell_type": "code",
   "execution_count": 4,
   "metadata": {},
   "outputs": [
    {
     "name": "stdout",
     "output_type": "stream",
     "text": [
      "[1, 2, 3]\n"
     ]
    }
   ],
   "source": [
    "list = SingleLinkedList()\n",
    "list.append(1)\n",
    "list.append(2)\n",
    "list.append(3)\n",
    "list.display()"
   ]
  }
 ],
 "metadata": {
  "kernelspec": {
   "display_name": "Python 3",
   "language": "python",
   "name": "python3"
  },
  "language_info": {
   "codemirror_mode": {
    "name": "ipython",
    "version": 3
   },
   "file_extension": ".py",
   "mimetype": "text/x-python",
   "name": "python",
   "nbconvert_exporter": "python",
   "pygments_lexer": "ipython3",
   "version": "3.11.0"
  }
 },
 "nbformat": 4,
 "nbformat_minor": 2
}
