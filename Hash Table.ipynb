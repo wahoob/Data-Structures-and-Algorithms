{
 "cells": [
  {
   "cell_type": "code",
   "execution_count": 3,
   "metadata": {},
   "outputs": [],
   "source": [
    "class HashTable:\n",
    "    def __init__(self, size=10):\n",
    "        self.size = size\n",
    "        self.array = [[] for _ in range(self.size)]\n",
    "    \n",
    "    def _get_hash(self, key):\n",
    "        h = 0\n",
    "        for char in key:\n",
    "            h += ord(char)\n",
    "        return h % self.size\n",
    "    \n",
    "    def __setitem__(self, key, value):\n",
    "        h = self._get_hash(key)\n",
    "        for idx, element in enumerate(self.array[h]):\n",
    "            if len(element) == 2 and element[0] == key:\n",
    "                self.array[h][idx] = (key, value)\n",
    "                return\n",
    "        self.array[h].append((key, value))\n",
    "\n",
    "    def __getitem__(self, key):\n",
    "        h = self._get_hash(key)\n",
    "        for element in self.array[h]:\n",
    "            if element[0] == key:\n",
    "                return element[1]\n",
    "    \n",
    "    def __delitem__(self, key):\n",
    "        h = self._get_hash(key)\n",
    "        for idx, element in enumerate(self.array[h]):\n",
    "            if element[0] == key:\n",
    "                del self.array[h][idx]"
   ]
  },
  {
   "cell_type": "code",
   "execution_count": 4,
   "metadata": {},
   "outputs": [
    {
     "name": "stdout",
     "output_type": "stream",
     "text": [
      "[[], [('march 8', 120)], [], [], [], [], [], [], [], []]\n"
     ]
    }
   ],
   "source": [
    "hash = HashTable()\n",
    "hash[\"march 6\"] = 100\n",
    "hash[\"march 8\"] = 120\n",
    "hash[\"march 6\"] = 1\n",
    "del hash[\"march 6\"]\n",
    "print(hash.array)"
   ]
  }
 ],
 "metadata": {
  "kernelspec": {
   "display_name": "Python 3",
   "language": "python",
   "name": "python3"
  },
  "language_info": {
   "codemirror_mode": {
    "name": "ipython",
    "version": 3
   },
   "file_extension": ".py",
   "mimetype": "text/x-python",
   "name": "python",
   "nbconvert_exporter": "python",
   "pygments_lexer": "ipython3",
   "version": "3.11.0"
  }
 },
 "nbformat": 4,
 "nbformat_minor": 2
}
