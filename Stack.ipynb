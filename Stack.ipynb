{
 "cells": [
  {
   "cell_type": "code",
   "execution_count": 8,
   "metadata": {},
   "outputs": [],
   "source": [
    "# using a list\n",
    "class StackUsingList:\n",
    "    def __init__(self):\n",
    "        self.items = []\n",
    "\n",
    "    def is_empty(self):\n",
    "        return len(self.items) == 0\n",
    "    \n",
    "    def push(self, item):\n",
    "        self.items.append(item)\n",
    "\n",
    "    def pop(self):\n",
    "        if not self.is_empty():\n",
    "            return self.items.pop()\n",
    "        else:\n",
    "            raise IndexError(\"Pop from an empty Stack\")\n",
    "        \n",
    "    def peek(self):\n",
    "        if not self.is_empty():\n",
    "            return self.items[-1]\n",
    "        else:\n",
    "            raise IndexError(\"Peek from an empty Stack\")\n",
    "        \n",
    "    def size(self):\n",
    "        return len(self.items)\n",
    "    \n",
    "    def __str__(self):\n",
    "        return str(self.items)"
   ]
  },
  {
   "cell_type": "code",
   "execution_count": 12,
   "metadata": {},
   "outputs": [],
   "source": [
    "class Node:\n",
    "    def __init__(self, data=None):\n",
    "        self.data = data\n",
    "        self.next = None\n",
    "\n",
    "class StackUsingLinkedList:\n",
    "    def __init__(self):\n",
    "        self.top = None\n",
    "        self._size = 0\n",
    "\n",
    "    def is_empty(self):\n",
    "        return self.top is None\n",
    "    \n",
    "    def push(self, item):\n",
    "        new_node = Node(item)\n",
    "        new_node.next = self.top\n",
    "        self.top = new_node\n",
    "        self._size += 1\n",
    "\n",
    "    def pop(self):\n",
    "        if not self.is_empty():\n",
    "            poped_node = self.top\n",
    "            self.top = self.top.next\n",
    "            self._size -= 1\n",
    "            return poped_node.data\n",
    "        else:\n",
    "            raise IndexError(\"Pop from an empty stack\")\n",
    "    \n",
    "    def peek(self):\n",
    "        if not self.is_empty():\n",
    "            return self.top.data\n",
    "        else:\n",
    "            raise IndexError(\"Peek from an empty Stack\")\n",
    "    \n",
    "    def size(self):\n",
    "        return self._size\n",
    "    \n",
    "    def __str__(self):\n",
    "        array = []\n",
    "        current = self.top\n",
    "        while current:\n",
    "            array.append(current.data)\n",
    "            current = current.next\n",
    "        return str(array)"
   ]
  },
  {
   "cell_type": "code",
   "execution_count": 10,
   "metadata": {},
   "outputs": [
    {
     "name": "stdout",
     "output_type": "stream",
     "text": [
      "[1, 2, 3]\n",
      "3\n",
      "[1, 2]\n",
      "2\n",
      "2\n",
      "False\n"
     ]
    }
   ],
   "source": [
    "stack1 = StackUsingList()\n",
    "stack1.push(1)\n",
    "stack1.push(2)\n",
    "stack1.push(3)\n",
    "print(stack1)\n",
    "print(stack1.pop())\n",
    "print(stack1)\n",
    "print(stack1.peek())\n",
    "print(stack1.size())\n",
    "print(stack1.is_empty())"
   ]
  },
  {
   "cell_type": "code",
   "execution_count": 13,
   "metadata": {},
   "outputs": [
    {
     "name": "stdout",
     "output_type": "stream",
     "text": [
      "[3, 2, 1]\n",
      "3\n",
      "[2, 1]\n",
      "2\n",
      "2\n",
      "False\n"
     ]
    }
   ],
   "source": [
    "stack2 = StackUsingLinkedList()\n",
    "stack2.push(1)\n",
    "stack2.push(2)\n",
    "stack2.push(3)\n",
    "print(stack2)\n",
    "print(stack2.pop())\n",
    "print(stack2)\n",
    "print(stack2.peek())\n",
    "print(stack2.size())\n",
    "print(stack2.is_empty())"
   ]
  }
 ],
 "metadata": {
  "kernelspec": {
   "display_name": "Python 3",
   "language": "python",
   "name": "python3"
  },
  "language_info": {
   "codemirror_mode": {
    "name": "ipython",
    "version": 3
   },
   "file_extension": ".py",
   "mimetype": "text/x-python",
   "name": "python",
   "nbconvert_exporter": "python",
   "pygments_lexer": "ipython3",
   "version": "3.11.0"
  }
 },
 "nbformat": 4,
 "nbformat_minor": 2
}
