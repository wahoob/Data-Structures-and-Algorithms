{
 "cells": [
  {
   "cell_type": "code",
   "execution_count": 1,
   "metadata": {},
   "outputs": [],
   "source": [
    "class DynamicArray:\n",
    "    def __init__(self):\n",
    "        self.capacity = 1\n",
    "        self.size = 0\n",
    "        self.array = [None] * self.capacity\n",
    "    \n",
    "    def _resize(self, new_capacity):\n",
    "        new_array = [None] * new_capacity\n",
    "        for i in range(self.size):\n",
    "            new_array[i] = self.array[i]\n",
    "        self.array = new_array\n",
    "        self.capacity = new_capacity\n",
    "\n",
    "    def _shift_left(self, index):\n",
    "        for i in range(index, self.array):\n",
    "            self.array[i] = self.array[i + 1]\n",
    "        self.array[self.size] = None\n",
    "\n",
    "    def append(self, element):\n",
    "        if self.size == self.capacity:\n",
    "            self._resize(2 * self.capacity)\n",
    "        self.array[self.size] = element\n",
    "        self.size += 1\n",
    "\n",
    "    def get(self, index):\n",
    "        if 0 <= index < self.size:\n",
    "            return self.array[index]\n",
    "        raise IndexError(\"Index out of bounds\")\n",
    "        \n",
    "    def remove(self, element):\n",
    "        for i in range(self.size):\n",
    "            if self.array[i] == element:\n",
    "                self._shift_left(i)\n",
    "                self.size -= 1\n",
    "                if self.size == self.capacity // 4:\n",
    "                    self._resize(self.capacity // 2)\n",
    "                return\n",
    "            raise ValueError(\"Element not found\")\n",
    "        \n",
    "    def insert(self, index, element):\n",
    "        if index < 0 or index > self.size:\n",
    "            raise IndexError(\"Index out of bounds\")\n",
    "        if self.size == self.capacity:\n",
    "            self._resize(2 * self.capacity)\n",
    "        for i in range(self.size, index, -1):\n",
    "            self.array[i] = self.array[i - 1]\n",
    "        self.array[index] = element\n",
    "        self.size += 1"
   ]
  },
  {
   "cell_type": "code",
   "execution_count": 3,
   "metadata": {},
   "outputs": [
    {
     "name": "stdout",
     "output_type": "stream",
     "text": [
      "[1, 2, 3, 4]\n",
      "[1, 2, 3, 4, 5, None, None, None]\n"
     ]
    }
   ],
   "source": [
    "arr = DynamicArray()\n",
    "arr.append(1)\n",
    "arr.append(2)\n",
    "arr.append(3)\n",
    "arr.append(4)\n",
    "print(arr.array)\n",
    "arr.append(5)\n",
    "print(arr.array)"
   ]
  }
 ],
 "metadata": {
  "kernelspec": {
   "display_name": "Python 3",
   "language": "python",
   "name": "python3"
  },
  "language_info": {
   "codemirror_mode": {
    "name": "ipython",
    "version": 3
   },
   "file_extension": ".py",
   "mimetype": "text/x-python",
   "name": "python",
   "nbconvert_exporter": "python",
   "pygments_lexer": "ipython3",
   "version": "3.11.0"
  }
 },
 "nbformat": 4,
 "nbformat_minor": 2
}
