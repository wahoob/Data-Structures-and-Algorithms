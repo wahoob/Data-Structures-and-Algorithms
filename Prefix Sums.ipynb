{
 "cells": [
  {
   "cell_type": "code",
   "execution_count": 1,
   "metadata": {},
   "outputs": [],
   "source": [
    "def prefix_sums(arr, left, right):\n",
    "    n = len(arr)\n",
    "    result = [0] * (n + 1)\n",
    "\n",
    "    for i in range(n):\n",
    "        result[i + 1] = arr[i] + result[i]\n",
    "\n",
    "    return result[right + 1] - result[left]"
   ]
  },
  {
   "cell_type": "code",
   "execution_count": 2,
   "metadata": {},
   "outputs": [
    {
     "data": {
      "text/plain": [
       "9"
      ]
     },
     "execution_count": 2,
     "metadata": {},
     "output_type": "execute_result"
    }
   ],
   "source": [
    "arr = [3, 2, 1, 3, 1, 4, 2]\n",
    "prefix_sums(arr, 2, 5) # 1 + 3 + 1 + 4"
   ]
  }
 ],
 "metadata": {
  "kernelspec": {
   "display_name": "Python 3",
   "language": "python",
   "name": "python3"
  },
  "language_info": {
   "codemirror_mode": {
    "name": "ipython",
    "version": 3
   },
   "file_extension": ".py",
   "mimetype": "text/x-python",
   "name": "python",
   "nbconvert_exporter": "python",
   "pygments_lexer": "ipython3",
   "version": "3.11.0"
  }
 },
 "nbformat": 4,
 "nbformat_minor": 2
}
